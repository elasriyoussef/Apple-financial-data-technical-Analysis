{
 "cells": [
  {
   "cell_type": "markdown",
   "metadata": {},
   "source": [
    "# XlsxWriter\n",
    "- https://xlsxwriter.readthedocs.io"
   ]
  },
  {
   "cell_type": "code",
   "execution_count": null,
   "metadata": {},
   "outputs": [],
   "source": [
    "import pandas as pd"
   ]
  },
  {
   "cell_type": "code",
   "execution_count": null,
   "metadata": {},
   "outputs": [],
   "source": [
    "remote_file = \"https://raw.githubusercontent.com/LearnPythonWithRune/FinancialDataAnalysisWithPython/main/files/AAPL.csv\"\n",
    "data = pd.read_csv(remote_file, index_col=0, parse_dates=True)"
   ]
  },
  {
   "cell_type": "code",
   "execution_count": null,
   "metadata": {},
   "outputs": [],
   "source": [
    "data.head()"
   ]
  },
  {
   "cell_type": "markdown",
   "metadata": {},
   "source": [
    "### Moving Average"
   ]
  },
  {
   "cell_type": "code",
   "execution_count": null,
   "metadata": {},
   "outputs": [],
   "source": [
    "data['MA10'] = data['Close'].rolling(10).mean()"
   ]
  },
  {
   "cell_type": "code",
   "execution_count": null,
   "metadata": {},
   "outputs": [],
   "source": [
    "data.tail()"
   ]
  },
  {
   "cell_type": "markdown",
   "metadata": {},
   "source": [
    "### MACD"
   ]
  },
  {
   "cell_type": "code",
   "execution_count": null,
   "metadata": {},
   "outputs": [],
   "source": [
    "exp1 = data['Close'].ewm(span=12, adjust=False).mean()\n",
    "exp2 = data['Close'].ewm(span=26, adjust=False).mean()\n",
    "data['MACD'] = macd = exp1 - exp2\n",
    "data['Signal line'] = exp3 = macd.ewm(span=9, adjust=False).mean()"
   ]
  },
  {
   "cell_type": "code",
   "execution_count": null,
   "metadata": {},
   "outputs": [],
   "source": [
    "data.tail()"
   ]
  },
  {
   "cell_type": "markdown",
   "metadata": {},
   "source": [
    "### Stochastic Oscillator"
   ]
  },
  {
   "cell_type": "code",
   "execution_count": null,
   "metadata": {},
   "outputs": [],
   "source": [
    "high14 = data['High'].rolling(14).max()\n",
    "low14 = data['Low'].rolling(14).min()\n",
    "data['%K'] = pct_k = (data['Close'] - low14)*100/(high14 - low14)\n",
    "data['%D'] = pct_d = data['%K'].rolling(3).mean()"
   ]
  },
  {
   "cell_type": "code",
   "execution_count": null,
   "metadata": {},
   "outputs": [],
   "source": [
    "data.tail()"
   ]
  },
  {
   "cell_type": "markdown",
   "metadata": {},
   "source": [
    "### Time period"
   ]
  },
  {
   "cell_type": "code",
   "execution_count": null,
   "metadata": {},
   "outputs": [],
   "source": [
    "data = data.loc['2020-01-01':]\n",
    "data = data.iloc[::-1]"
   ]
  },
  {
   "cell_type": "code",
   "execution_count": null,
   "metadata": {},
   "outputs": [],
   "source": [
    "data.head()"
   ]
  },
  {
   "cell_type": "markdown",
   "metadata": {},
   "source": [
    "### Excel"
   ]
  },
  {
   "cell_type": "code",
   "execution_count": null,
   "metadata": {},
   "outputs": [],
   "source": [
    "writer = pd.ExcelWriter(\"technical.xlsx\", \n",
    "                        engine='xlsxwriter', \n",
    "                        date_format = 'yyyy-mm-dd', \n",
    "                        datetime_format='yyyy-mm-dd')\n",
    "\n",
    "workbook = writer.book\n",
    "\n",
    "# Create a format for a green cell\n",
    "green_cell = workbook.add_format({\n",
    "    'bg_color': '#C6EFCE',\n",
    "    'font_color': '#006100'\n",
    "})\n",
    "\n",
    "# Create a format for a red cell\n",
    "red_cell = workbook.add_format({\n",
    "    'bg_color': '#FFC7CE',                            \n",
    "    'font_color': '#9C0006'\n",
    "})\n",
    "\n",
    "# **\n",
    "# ** MA\n",
    "# **\n",
    "sheet_name = 'MA10'\n",
    "data[['Close', 'MA10']].to_excel(writer, sheet_name=sheet_name)\n",
    "worksheet = writer.sheets[sheet_name]\n",
    "\n",
    "# Set column width of Date\n",
    "worksheet.set_column(0, 0, 15)\n",
    "\n",
    "\n",
    "for col in range(1, 3):\n",
    "    # Create a conditional formatted of type formula\n",
    "    worksheet.conditional_format(1, col, len(data), col, {\n",
    "        'type': 'formula',                                    \n",
    "        'criteria': '=B2>=C2',\n",
    "        'format': green_cell\n",
    "    })\n",
    "\n",
    "    # Create a conditional formatted of type formula\n",
    "    worksheet.conditional_format(1, col, len(data), col, {\n",
    "        'type': 'formula',                                    \n",
    "        'criteria': '=B2<C2',\n",
    "        'format': red_cell\n",
    "    })\n",
    "\n",
    "\n",
    "# Create a new chart object.\n",
    "chart1 = workbook.add_chart({'type': 'line'})\n",
    "\n",
    "# Add a series to the chart.\n",
    "chart1.add_series({\n",
    "        'name': 'AAPL',\n",
    "        'categories': [sheet_name, 1, 0, len(data), 0],\n",
    "        'values': [sheet_name, 1, 1, len(data), 1],\n",
    "})\n",
    "\n",
    "# Create a new chart object.\n",
    "chart2 = workbook.add_chart({'type': 'line'})\n",
    "\n",
    "# Add a series to the chart.\n",
    "chart2.add_series({\n",
    "        'name': sheet_name,\n",
    "        'categories': [sheet_name, 1, 0, len(data), 0],\n",
    "        'values': [sheet_name, 1, 2, len(data), 2],\n",
    "})\n",
    "\n",
    "# Combine and insert title, axis names\n",
    "chart1.combine(chart2)\n",
    "chart1.set_title({'name': sheet_name + \" AAPL\"})\n",
    "chart1.set_x_axis({'name': 'Date'})\n",
    "chart1.set_y_axis({'name': 'Price'})\n",
    "\n",
    "# Insert the chart into the worksheet.\n",
    "worksheet.insert_chart('E2', chart1)\n",
    "\n",
    "\n",
    "# **\n",
    "# ** MACD\n",
    "# **\n",
    "\n",
    "sheet_name = 'MACD'\n",
    "data[['Close', 'MACD', 'Signal line']].to_excel(writer, sheet_name=sheet_name)\n",
    "worksheet = writer.sheets[sheet_name]\n",
    "\n",
    "# Set column width of Date\n",
    "worksheet.set_column(0, 0, 15)\n",
    "\n",
    "for col in range(1, 4):\n",
    "    # Create a conditional formatted of type formula\n",
    "    worksheet.conditional_format(1, col, len(data), col, {\n",
    "        'type': 'formula',                                    \n",
    "        'criteria': '=C2>=D2',\n",
    "        'format': green_cell\n",
    "    })\n",
    "\n",
    "    # Create a conditional formatted of type formula\n",
    "    worksheet.conditional_format(1, col, len(data), col, {\n",
    "        'type': 'formula',                                    \n",
    "        'criteria': '=C2<D2',\n",
    "        'format': red_cell\n",
    "    })\n",
    "\n",
    "# Create a new chart object.\n",
    "chart1 = workbook.add_chart({'type': 'line'})\n",
    "\n",
    "# Add a series to the chart.\n",
    "chart1.add_series({\n",
    "        'name': 'MACD',\n",
    "        'categories': [sheet_name, 1, 0, len(data), 0],\n",
    "        'values': [sheet_name, 1, 2, len(data), 2],\n",
    "})\n",
    "\n",
    "# Create a new chart object.\n",
    "chart2 = workbook.add_chart({'type': 'line'})\n",
    "\n",
    "# Add a series to the chart.\n",
    "chart2.add_series({\n",
    "        'name': 'Signal line',\n",
    "        'categories': [sheet_name, 1, 0, len(data), 0],\n",
    "        'values': [sheet_name, 1, 3, len(data), 3],\n",
    "})\n",
    "\n",
    "# Combine and insert title, axis names\n",
    "chart1.combine(chart2)\n",
    "chart1.set_title({'name': sheet_name + \" AAPL\"})\n",
    "chart1.set_x_axis({'name': 'Date'})\n",
    "chart1.set_y_axis({'name': 'Value'})\n",
    "\n",
    "# To set the labels on x axis not on 0\n",
    "chart1.set_x_axis({\n",
    "    'label_position': 'low',\n",
    "    'num_font':  {'rotation': 45}\n",
    "})\n",
    "\n",
    "# Insert the chart into the worksheet.\n",
    "worksheet.insert_chart('F2', chart1)\n",
    "\n",
    "\n",
    "# **\n",
    "# ** Stochastic\n",
    "# **\n",
    "\n",
    "sheet_name = 'Stochastic'\n",
    "data[['Close', '%K', '%D']].to_excel(writer, sheet_name=sheet_name)\n",
    "worksheet = writer.sheets[sheet_name]\n",
    "\n",
    "# Set column width of Date\n",
    "worksheet.set_column(0, 0, 15)\n",
    "\n",
    "for col in range(1, 4):\n",
    "    # Create a conditional formatted of type formula\n",
    "    worksheet.conditional_format(1, col, len(data), col, {\n",
    "        'type': 'formula',                                    \n",
    "        'criteria': '=C2>=D2',\n",
    "        'format': green_cell\n",
    "    })\n",
    "\n",
    "    # Create a conditional formatted of type formula\n",
    "    worksheet.conditional_format(1, col, len(data), col, {\n",
    "        'type': 'formula',                                    \n",
    "        'criteria': '=C2<D2',\n",
    "        'format': red_cell\n",
    "    })\n",
    "\n",
    "\n",
    "# Create a new chart object.\n",
    "chart1 = workbook.add_chart({'type': 'line'})\n",
    "\n",
    "# Add a series to the chart.\n",
    "chart1.add_series({\n",
    "        'name': '%K',\n",
    "        'categories': [sheet_name, 1, 0, len(data), 0],\n",
    "        'values': [sheet_name, 1, 2, len(data), 2],\n",
    "})\n",
    "\n",
    "# Create a new chart object.\n",
    "chart2 = workbook.add_chart({'type': 'line'})\n",
    "\n",
    "# Add a series to the chart.\n",
    "chart2.add_series({\n",
    "        'name': '%D',\n",
    "        'categories': [sheet_name, 1, 0, len(data), 0],\n",
    "        'values': [sheet_name, 1, 3, len(data), 3],\n",
    "})\n",
    "\n",
    "# Combine and insert title, axis names\n",
    "chart1.combine(chart2)\n",
    "chart1.set_title({'name': sheet_name + \" AAPL\"})\n",
    "chart1.set_x_axis({'name': 'Date'})\n",
    "chart1.set_y_axis({'name': 'Value'})\n",
    "\n",
    "# To set the labels on x axis not on 0\n",
    "chart1.set_x_axis({\n",
    "    'label_position': 'low',\n",
    "    'num_font':  {'rotation': 45}\n",
    "})\n",
    "\n",
    "# Insert the chart into the worksheet.\n",
    "worksheet.insert_chart('F2', chart1)\n",
    "\n",
    "# End of sheets\n",
    "\n",
    "\n",
    "# Close\n",
    "writer.close()"
   ]
  },
  {
   "cell_type": "code",
   "execution_count": null,
   "metadata": {},
   "outputs": [],
   "source": []
  }
 ],
 "metadata": {
  "kernelspec": {
   "display_name": "Python 3",
   "language": "python",
   "name": "python3"
  },
  "language_info": {
   "codemirror_mode": {
    "name": "ipython",
    "version": 3
   },
   "file_extension": ".py",
   "mimetype": "text/x-python",
   "name": "python",
   "nbconvert_exporter": "python",
   "pygments_lexer": "ipython3",
   "version": "3.8.5"
  }
 },
 "nbformat": 4,
 "nbformat_minor": 5
}
